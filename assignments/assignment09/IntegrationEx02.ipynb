{
 "cells": [
  {
   "cell_type": "markdown",
   "metadata": {
    "nbgrader": {}
   },
   "source": [
    "# Integration Exercise 2"
   ]
  },
  {
   "cell_type": "markdown",
   "metadata": {
    "nbgrader": {}
   },
   "source": [
    "## Imports"
   ]
  },
  {
   "cell_type": "code",
   "execution_count": 1,
   "metadata": {
    "collapsed": true,
    "nbgrader": {}
   },
   "outputs": [],
   "source": [
    "%matplotlib inline\n",
    "import matplotlib.pyplot as plt\n",
    "import numpy as np\n",
    "import seaborn as sns\n",
    "from scipy import integrate"
   ]
  },
  {
   "cell_type": "markdown",
   "metadata": {
    "nbgrader": {}
   },
   "source": [
    "## Indefinite integrals"
   ]
  },
  {
   "cell_type": "markdown",
   "metadata": {
    "nbgrader": {}
   },
   "source": [
    "Here is a [table of definite integrals](http://en.wikipedia.org/wiki/List_of_definite_integrals). Many of these integrals has a number of parameters $a$, $b$, etc.\n",
    "\n",
    "Find five of these integrals and perform the following steps:\n",
    "\n",
    "1. Typeset the integral using LateX in a Markdown cell.\n",
    "1. Define an `integrand` function that computes the value of the integrand.\n",
    "2. Define an `integral_approx` funciton that uses `scipy.integrate.quad` to peform the integral.\n",
    "3. Define an `integral_exact` function that computes the exact value of the integral.\n",
    "4. Call and print the return value of `integral_approx` and `integral_exact` for one set of parameters.\n",
    "\n",
    "Here is an example to show what your solutions should look like:"
   ]
  },
  {
   "cell_type": "markdown",
   "metadata": {
    "nbgrader": {}
   },
   "source": [
    "### Example"
   ]
  },
  {
   "cell_type": "markdown",
   "metadata": {
    "collapsed": true,
    "nbgrader": {}
   },
   "source": [
    "Here is the integral I am performing:\n",
    "\n",
    "$$ I_1 = \\int_0^\\infty \\frac{dx}{x^2 + a^2} = \\frac{\\pi}{2a} $$"
   ]
  },
  {
   "cell_type": "markdown",
   "metadata": {},
   "source": []
  },
  {
   "cell_type": "code",
   "execution_count": null,
   "metadata": {
    "collapsed": false,
    "nbgrader": {}
   },
   "outputs": [],
   "source": [
    "def integrand(x, a):\n",
    "    return 1.0/(x**2 + a**2)\n",
    "\n",
    "def integral_approx(a):\n",
    "    # Use the args keyword argument to feed extra arguments to your integrand\n",
    "    I, e = integrate.quad(integrand, 0, np.inf, args=(a,))\n",
    "    return I\n",
    "\n",
    "def integral_exact(a):\n",
    "    return 0.5*np.pi/a\n",
    "\n",
    "print(\"Numerical: \", integral_approx(1.0))\n",
    "print(\"Exact    : \", integral_exact(1.0))\n"
   ]
  },
  {
   "cell_type": "code",
   "execution_count": null,
   "metadata": {
    "collapsed": true,
    "nbgrader": {}
   },
   "outputs": [],
   "source": [
    "assert True # leave this cell to grade the above integral"
   ]
  },
  {
   "cell_type": "markdown",
   "metadata": {
    "nbgrader": {}
   },
   "source": [
    "### Integral 1"
   ]
  },
  {
   "cell_type": "markdown",
   "metadata": {
    "deletable": false,
    "nbgrader": {
     "checksum": "e034fc7ac9c38bbb9c7c87db4b6c8e4e",
     "grade": true,
     "grade_id": "integrationex03a",
     "points": 1,
     "solution": true
    }
   },
   "source": [
    "$$I = \\int_0^\\infty \\frac{x^{p-1}dx}{1+x} = \\frac{\\pi}{sin p \\pi}, 0<p<1$$"
   ]
  },
  {
   "cell_type": "code",
   "execution_count": 2,
   "metadata": {
    "collapsed": false,
    "deletable": false,
    "nbgrader": {
     "checksum": "6cff4e8e53b15273846c3aecaea84a3d",
     "solution": true
    }
   },
   "outputs": [
    {
     "name": "stdout",
     "output_type": "stream",
     "text": [
      "Numerical:  3.141592653591144\n",
      "Exact    :  3.14159265359\n"
     ]
    }
   ],
   "source": [
    "def integrand(x, p):\n",
    "    return x**(p-1)/(1+x)\n",
    "def integral_approx(p):\n",
    "    I, e = integrate.quad(integrand, 0, np.inf, args=(p,))\n",
    "    return I\n",
    "def integral_exact(p):\n",
    "    return np.pi/np.sin(p*np.pi)\n",
    "\n",
    "print(\"Numerical: \", integral_approx(.5))\n",
    "print(\"Exact    : \", integral_exact(.5))"
   ]
  },
  {
   "cell_type": "code",
   "execution_count": 3,
   "metadata": {
    "collapsed": true,
    "deletable": false,
    "nbgrader": {
     "checksum": "b998cb1faa45ae86f0728d51dfa0e45c",
     "grade": true,
     "grade_id": "integrationex03b",
     "points": 1
    }
   },
   "outputs": [],
   "source": [
    "assert True # leave this cell to grade the above integral"
   ]
  },
  {
   "cell_type": "markdown",
   "metadata": {
    "nbgrader": {}
   },
   "source": [
    "### Integral 2"
   ]
  },
  {
   "cell_type": "markdown",
   "metadata": {
    "deletable": false,
    "nbgrader": {
     "checksum": "c3191d99083f6d7cf804f95876e8a624",
     "grade": true,
     "grade_id": "integrationex03c",
     "points": 1,
     "solution": true
    }
   },
   "source": [
    "$$ I = \\int_0^{2\\pi} \\frac{dx}{a+bsin(x)} = \\frac{2\\pi}{\\sqrt{a^2+b^2}}$$"
   ]
  },
  {
   "cell_type": "code",
   "execution_count": 5,
   "metadata": {
    "collapsed": false,
    "deletable": false,
    "nbgrader": {
     "checksum": "6cff4e8e53b15273846c3aecaea84a3d",
     "solution": true
    }
   },
   "outputs": [
    {
     "name": "stdout",
     "output_type": "stream",
     "text": [
      "Numerical:  inf\n",
      "Exact    :  8.885765876316732\n"
     ]
    }
   ],
   "source": [
    "def integrand(x, a, b):\n",
    "    return 1/(a+b*np.sin(x))\n",
    "def integral_approx(a,b):\n",
    "    I, e = integrate.quad(integrand, 0, 2*np.pi, args=(a,b,))\n",
    "    return I\n",
    "def integral_exact(a,b):\n",
    "    return 2*np.pi/(a**2+b**2)**.5\n",
    "\n",
    "print(\"Numerical: \", integral_approx(.5, .5))\n",
    "print(\"Exact    : \", integral_exact(.5, .5))"
   ]
  },
  {
   "cell_type": "code",
   "execution_count": 6,
   "metadata": {
    "collapsed": true,
    "deletable": false,
    "nbgrader": {
     "checksum": "4e20de120f0c45ba666f10ba9a6c82d8",
     "grade": true,
     "grade_id": "integrationex03d",
     "points": 1
    }
   },
   "outputs": [],
   "source": [
    "assert True # leave this cell to grade the above integral"
   ]
  },
  {
   "cell_type": "markdown",
   "metadata": {
    "nbgrader": {}
   },
   "source": [
    "### Integral 3"
   ]
  },
  {
   "cell_type": "markdown",
   "metadata": {
    "deletable": false,
    "nbgrader": {
     "checksum": "c65f5242f7fa5525523b89899f6ca251",
     "grade": true,
     "grade_id": "integrationex03e",
     "points": 1,
     "solution": true
    }
   },
   "source": [
    "$$I = \\int_0^\\infty e^{-ax^2}dx = \\frac{1}{2}\\sqrt{\\frac{\\pi}{a}} $$"
   ]
  },
  {
   "cell_type": "code",
   "execution_count": 7,
   "metadata": {
    "collapsed": false,
    "deletable": false,
    "nbgrader": {
     "checksum": "6cff4e8e53b15273846c3aecaea84a3d",
     "solution": true
    }
   },
   "outputs": [
    {
     "name": "stdout",
     "output_type": "stream",
     "text": [
      "Numerical:  1.2533141373154997\n",
      "Exact    :  1.2533141373155001\n"
     ]
    }
   ],
   "source": [
    "def integrand(x, a):\n",
    "    return np.exp(-a*x**2)\n",
    "def integral_approx(a):\n",
    "    I, e = integrate.quad(integrand, 0, np.inf, args=(a,))\n",
    "    return I\n",
    "def integral_exact(a):\n",
    "    return .5*(np.pi/a)**.5\n",
    "\n",
    "print(\"Numerical: \", integral_approx(.5))\n",
    "print(\"Exact    : \", integral_exact(.5))"
   ]
  },
  {
   "cell_type": "code",
   "execution_count": 8,
   "metadata": {
    "collapsed": true,
    "deletable": false,
    "nbgrader": {
     "checksum": "8c60d256fe8559e423cf8946ae70ba8d",
     "grade": true,
     "grade_id": "integrationex03f",
     "points": 1
    }
   },
   "outputs": [],
   "source": [
    "assert True # leave this cell to grade the above integral"
   ]
  },
  {
   "cell_type": "markdown",
   "metadata": {
    "nbgrader": {}
   },
   "source": [
    "### Integral 4"
   ]
  },
  {
   "cell_type": "markdown",
   "metadata": {
    "deletable": false,
    "nbgrader": {
     "checksum": "3a5d3b2070c78b64152c96681e8e6585",
     "grade": true,
     "grade_id": "integrationex03g",
     "points": 1,
     "solution": true
    }
   },
   "source": [
    "$$I = \\int_0^1 \\frac{ln(x)}{1+x}dx = -\\frac{\\pi^2}{12}$$"
   ]
  },
  {
   "cell_type": "code",
   "execution_count": 11,
   "metadata": {
    "collapsed": false,
    "deletable": false,
    "nbgrader": {
     "checksum": "6cff4e8e53b15273846c3aecaea84a3d",
     "solution": true
    }
   },
   "outputs": [
    {
     "name": "stdout",
     "output_type": "stream",
     "text": [
      "Numerical:  -0.8224670334241143\n",
      "Exact    :  -0.8224670334241132\n"
     ]
    }
   ],
   "source": [
    "def integrand(x):\n",
    "    return np.log(x)/(1+x)\n",
    "def integral_approx():\n",
    "    I, e = integrate.quad(integrand, 0, 1)\n",
    "    return I\n",
    "def integral_exact():\n",
    "    return -np.pi**2/12\n",
    "\n",
    "print(\"Numerical: \", integral_approx())\n",
    "print(\"Exact    : \", integral_exact())"
   ]
  },
  {
   "cell_type": "code",
   "execution_count": 12,
   "metadata": {
    "collapsed": true,
    "deletable": false,
    "nbgrader": {
     "checksum": "88acfb75979c6551c8b3af758cd86acc",
     "grade": true,
     "grade_id": "integrationex03h",
     "points": 1
    }
   },
   "outputs": [],
   "source": [
    "assert True # leave this cell to grade the above integral"
   ]
  },
  {
   "cell_type": "markdown",
   "metadata": {
    "nbgrader": {}
   },
   "source": [
    "### Integral 5"
   ]
  },
  {
   "cell_type": "markdown",
   "metadata": {
    "deletable": false,
    "nbgrader": {
     "checksum": "9dbb9f1159b3c089e60dd167d973cc59",
     "grade": true,
     "grade_id": "integrationex03i",
     "points": 1,
     "solution": true
    }
   },
   "source": [
    "$$I = \\int_{-\\infty}^\\infty \\frac{1}{cosh x}dx = \\pi $$"
   ]
  },
  {
   "cell_type": "code",
   "execution_count": 13,
   "metadata": {
    "collapsed": false,
    "deletable": false,
    "nbgrader": {
     "checksum": "6cff4e8e53b15273846c3aecaea84a3d",
     "solution": true
    }
   },
   "outputs": [
    {
     "name": "stdout",
     "output_type": "stream",
     "text": [
      "Numerical:  3.1415926535897936\n",
      "Exact    :  3.141592653589793\n"
     ]
    }
   ],
   "source": [
    "def integrand(x):\n",
    "    return 1/np.cosh(x)\n",
    "def integral_approx():\n",
    "    I, e = integrate.quad(integrand, -np.inf, np.inf)\n",
    "    return I\n",
    "def integral_exact():\n",
    "    return np.pi\n",
    "\n",
    "print(\"Numerical: \", integral_approx())\n",
    "print(\"Exact    : \", integral_exact())"
   ]
  },
  {
   "cell_type": "code",
   "execution_count": null,
   "metadata": {
    "collapsed": true,
    "deletable": false,
    "nbgrader": {
     "checksum": "34f6cf778698f4b90fdadc09c2a0f120",
     "grade": true,
     "grade_id": "integrationex03j",
     "points": 1
    }
   },
   "outputs": [],
   "source": [
    "assert True # leave this cell to grade the above integral"
   ]
  }
 ],
 "metadata": {
  "kernelspec": {
   "display_name": "Python 3",
   "language": "python",
   "name": "python3"
  },
  "language_info": {
   "codemirror_mode": {
    "name": "ipython",
    "version": 3
   },
   "file_extension": ".py",
   "mimetype": "text/x-python",
   "name": "python",
   "nbconvert_exporter": "python",
   "pygments_lexer": "ipython3",
   "version": "3.4.0"
  }
 },
 "nbformat": 4,
 "nbformat_minor": 0
}
