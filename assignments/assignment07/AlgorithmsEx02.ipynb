{
 "cells": [
  {
   "cell_type": "markdown",
   "metadata": {
    "nbgrader": {}
   },
   "source": [
    "# Algorithms Exercise 2"
   ]
  },
  {
   "cell_type": "markdown",
   "metadata": {
    "nbgrader": {}
   },
   "source": [
    "## Imports"
   ]
  },
  {
   "cell_type": "code",
   "execution_count": 1,
   "metadata": {
    "collapsed": true,
    "nbgrader": {}
   },
   "outputs": [],
   "source": [
    "%matplotlib inline\n",
    "from matplotlib import pyplot as plt\n",
    "import seaborn as sns\n",
    "import numpy as np"
   ]
  },
  {
   "cell_type": "markdown",
   "metadata": {
    "nbgrader": {}
   },
   "source": [
    "## Peak finding"
   ]
  },
  {
   "cell_type": "markdown",
   "metadata": {
    "nbgrader": {}
   },
   "source": [
    "Write a function `find_peaks` that finds and returns the indices of the local maxima in a sequence. Your function should:\n",
    "\n",
    "* Properly handle local maxima at the endpoints of the input array.\n",
    "* Return a Numpy array of integer indices.\n",
    "* Handle any Python iterable as input."
   ]
  },
  {
   "cell_type": "code",
   "execution_count": 15,
   "metadata": {
    "collapsed": false,
    "nbgrader": {
     "checksum": "16e8d0e271e2b778e4e94f95fe3933a2",
     "solution": true
    }
   },
   "outputs": [],
   "source": [
    "def find_peaks(a):\n",
    "    \"\"\"Find the indices of the local maxima in a sequence.\"\"\"\n",
    "    peaks = []\n",
    "    data = np.array(a)\n",
    "    deriv = np.diff(data)\n",
    "    if deriv[0] < 0:\n",
    "        peaks.append(0)\n",
    "    for i in range(1,len(deriv)):\n",
    "        if deriv[i]<0 and deriv[i-1]>0:\n",
    "            peaks.append(i)\n",
    "    if deriv[-1] >0:\n",
    "        peaks.append(len(data)-1)\n",
    "    return np.array(peaks)"
   ]
  },
  {
   "cell_type": "code",
   "execution_count": 16,
   "metadata": {
    "collapsed": false,
    "deletable": false,
    "nbgrader": {
     "checksum": "10f9a6cd367de8fdeafe16e190f7db83",
     "grade": true,
     "grade_id": "algorithmsex02a",
     "points": 5
    }
   },
   "outputs": [],
   "source": [
    "p1 = find_peaks([2,0,1,0,2,0,1])\n",
    "assert np.allclose(p1, np.array([0,2,4,6]))\n",
    "p2 = find_peaks(np.array([0,1,2,3]))\n",
    "assert np.allclose(p2, np.array([3]))\n",
    "p3 = find_peaks([3,2,1,0])\n",
    "assert np.allclose(p3, np.array([0]))"
   ]
  },
  {
   "cell_type": "markdown",
   "metadata": {
    "nbgrader": {}
   },
   "source": [
    "Here is a string with the first 10000 digits of $\\pi$ (after the decimal). Write code to perform the following:\n",
    "\n",
    "* Convert that string to a Numpy array of integers.\n",
    "* Find the indices of the local maxima in the digits of $\\pi$.\n",
    "* Use `np.diff` to find the distances between consequtive local maxima.\n",
    "* Visualize that distribution using an appropriately customized histogram."
   ]
  },
  {
   "cell_type": "code",
   "execution_count": 24,
   "metadata": {
    "collapsed": false,
    "nbgrader": {}
   },
   "outputs": [
    {
     "name": "stdout",
     "output_type": "stream",
     "text": [
      "[1 4 1 ..., 6 7 8]\n"
     ]
    }
   ],
   "source": [
    "from sympy import pi, N\n",
    "pi_digits_str = str(N(pi, 10001))[2:]\n",
    "pi_dig_num=np.array(list(pi_digits_str))\n",
    "pi_dig_num=pi_dig_num.astype(int)\n",
    "peak=find_peaks(pi_dig_num)\n",
    "peakdiff=np.diff(peak)"
   ]
  },
  {
   "cell_type": "code",
   "execution_count": 59,
   "metadata": {
    "collapsed": false,
    "deletable": false,
    "nbgrader": {
     "checksum": "6cff4e8e53b15273846c3aecaea84a3d",
     "solution": true
    }
   },
   "outputs": [
    {
     "data": {
      "image/png": "[encoded data removed]",
      "text/plain": [
       "<matplotlib.figure.Figure at 0x7f0798c6c3c8>"
      ]
     },
     "metadata": {},
     "output_type": "display_data"
    }
   ],
   "source": [
    "plt.hist(peakdiff, bins=100, width=1, color='k',edgecolor='b', align='right');\n",
    "plt.xlabel(\"Distance between adjacent local maxima in pi\")\n",
    "plt.ylabel(\"Counts\")\n",
    "plt.title(\"Distance between adjacent local maxima in pi\");"
   ]
  },
  {
   "cell_type": "code",
   "execution_count": 60,
   "metadata": {
    "collapsed": true,
    "deletable": false,
    "nbgrader": {
     "checksum": "140552b7e8017eddb99806fbeaf8d8a0",
     "grade": true,
     "grade_id": "algorithmsex02b",
     "points": 5
    }
   },
   "outputs": [],
   "source": [
    "assert True # use this for grading the pi digits histogram"
   ]
  },
  {
   "cell_type": "code",
   "execution_count": null,
   "metadata": {
    "collapsed": true
   },
   "outputs": [],
   "source": []
  }
 ],
 "metadata": {
  "kernelspec": {
   "display_name": "Python 3",
   "language": "python",
   "name": "python3"
  },
  "language_info": {
   "codemirror_mode": {
    "name": "ipython",
    "version": 3
   },
   "file_extension": ".py",
   "mimetype": "text/x-python",
   "name": "python",
   "nbconvert_exporter": "python",
   "pygments_lexer": "ipython3",
   "version": "3.4.0"
  }
 },
 "nbformat": 4,
 "nbformat_minor": 0
}
