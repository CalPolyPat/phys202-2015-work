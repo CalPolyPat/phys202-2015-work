{
 "cells": [
  {
   "cell_type": "markdown",
   "metadata": {
    "nbgrader": {}
   },
   "source": [
    "# Theory and Practice of Visualization Exercise 1"
   ]
  },
  {
   "cell_type": "markdown",
   "metadata": {
    "nbgrader": {}
   },
   "source": [
    "## Imports"
   ]
  },
  {
   "cell_type": "code",
   "execution_count": null,
   "metadata": {
    "collapsed": true,
    "nbgrader": {}
   },
   "outputs": [],
   "source": [
    "from IPython.display import Image"
   ]
  },
  {
   "cell_type": "markdown",
   "metadata": {
    "nbgrader": {}
   },
   "source": [
    "## Graphical excellence and integrity"
   ]
  },
  {
   "cell_type": "markdown",
   "metadata": {
    "nbgrader": {}
   },
   "source": [
    "Find a data-focused visualization on one of the following websites that is a *positive* example of the principles that Tufte describes in *The Visual Display of Quantitative Information*.\n",
    "\n",
    "* [Vox](http://www.vox.com/)\n",
    "* [Upshot](http://www.nytimes.com/upshot/)\n",
    "* [538](http://fivethirtyeight.com/)\n",
    "* [BuzzFeed](http://www.buzzfeed.com/)\n",
    "\n",
    "Upload the image for the visualization to this directory and display the image inline in this notebook."
   ]
  },
  {
   "cell_type": "code",
   "execution_count": 1,
   "metadata": {
    "collapsed": false,
    "deletable": false,
    "nbgrader": {
     "checksum": "9c86bcce96065a2133bab497403e3291",
     "grade": true,
     "grade_id": "theorypracticeex01a",
     "points": 2
    }
   },
   "outputs": [
    {
     "ename": "SyntaxError",
     "evalue": "invalid syntax (<ipython-input-1-f24cb62e629d>, line 2)",
     "output_type": "error",
     "traceback": [
      "\u001b[1;36m  File \u001b[1;32m\"<ipython-input-1-f24cb62e629d>\"\u001b[1;36m, line \u001b[1;32m2\u001b[0m\n\u001b[1;33m    display: none !important;\u001b[0m\n\u001b[1;37m           ^\u001b[0m\n\u001b[1;31mSyntaxError\u001b[0m\u001b[1;31m:\u001b[0m invalid syntax\n"
     ]
    }
   ],
   "source": [
    "http://www.nytimes.com/interactive/2014/07/08/upshot/how-the-year-you-were-born-influences-your-politics.html?abt=0002&abg=0"
   ]
  },
  {
   "cell_type": "markdown",
   "metadata": {
    "nbgrader": {}
   },
   "source": [
    "Describe in detail the ways in which the visualization exhibits graphical *integrity* and *excellence*:"
   ]
  },
  {
   "cell_type": "markdown",
   "metadata": {
    "collapsed": true,
    "deletable": false,
    "nbgrader": {
     "checksum": "80145499593a6a8f756ab550388d18ea",
     "grade": true,
     "grade_id": "theorypracticeex01b",
     "points": 8,
     "solution": true
    }
   },
   "source": [
    "I did not upload the graphic but it is the first one on the page. It is great because it has TONS of data and exhibits that well. It is interactive but that does not take a from the data. It makes one graphic hold nearly 60 years worth of data about political affiliation through time based on the age of the person and when they were born. It cross-references presidential terms so the we can possibly correlate data. It is well labeled and shows you in words and visually what each data point means. As well, the data ink ratio is huge and there is very little lie factor."
   ]
  }
 ],
 "metadata": {
  "kernelspec": {
   "display_name": "Python 3",
   "language": "python",
   "name": "python3"
  },
  "language_info": {
   "codemirror_mode": {
    "name": "ipython",
    "version": 3
   },
   "file_extension": ".py",
   "mimetype": "text/x-python",
   "name": "python",
   "nbconvert_exporter": "python",
   "pygments_lexer": "ipython3",
   "version": "3.4.0"
  }
 },
 "nbformat": 4,
 "nbformat_minor": 0
}
