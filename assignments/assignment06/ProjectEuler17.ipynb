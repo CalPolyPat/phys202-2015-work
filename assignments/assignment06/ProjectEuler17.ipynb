{
 "cells": [
  {
   "cell_type": "markdown",
   "metadata": {
    "nbgrader": {}
   },
   "source": [
    "# Project Euler: Problem 17"
   ]
  },
  {
   "cell_type": "markdown",
   "metadata": {
    "nbgrader": {}
   },
   "source": [
    "https://projecteuler.net/problem=17\n",
    "\n",
    "If the numbers 1 to 5 are written out in words: one, two, three, four, five, then there are 3 + 3 + 5 + 4 + 4 = 19 letters used in total.\n",
    "\n",
    "If all the numbers from 1 to 1000 (one thousand) inclusive were written out in words, how many letters would be used?\n",
    "\n",
    "\n",
    "NOTE: Do not count spaces or hyphens. For example, 342 (three hundred and forty-two) contains 23 letters and 115 (one hundred and fifteen) contains 20 letters. The use of \"and\" when writing out numbers is in compliance with British usage."
   ]
  },
  {
   "cell_type": "markdown",
   "metadata": {
    "nbgrader": {}
   },
   "source": [
    "First write a `number_to_words(n)` function that takes an integer `n` between 1 and 1000 inclusive and returns a list of words for the number as described above"
   ]
  },
  {
   "cell_type": "code",
   "execution_count": 29,
   "metadata": {
    "collapsed": true
   },
   "outputs": [],
   "source": [
    "import numpy as np"
   ]
  },
  {
   "cell_type": "code",
   "execution_count": 64,
   "metadata": {
    "collapsed": true,
    "nbgrader": {
     "checksum": "790b69a83b63d5a31b5fac1451dd3b54",
     "solution": true
    }
   },
   "outputs": [],
   "source": [
    "def number_to_words(n,numlist):\n",
    "    \"\"\"Given a number n between 1-1000 inclusive return a list of words for the number.\"\"\"\n",
    "    if len(str(n)) == 1:\n",
    "        if str(n)[-1] == '1':\n",
    "            numlist.append('one')\n",
    "        elif str(n)[-1] == '2':                \n",
    "            numlist.append('two')\n",
    "        elif str(n)[-1] == '3':                \n",
    "            numlist.append('three')\n",
    "        elif str(n)[-1] == '4':                \n",
    "            numlist.append('four')\n",
    "        elif str(n)[-1] == '5':                \n",
    "            numlist.append('five')\n",
    "        elif str(n)[-1] == '6':                \n",
    "            numlist.append('six')\n",
    "        elif str(n)[-1] == '7':                \n",
    "            numlist.append('seven')\n",
    "        elif str(n)[-1] == '8':                \n",
    "            numlist.append('eight')\n",
    "        elif str(n)[-1] == '9':                \n",
    "            numlist.append('nine')\n",
    "        elif str(n)[-1] == '0':\n",
    "            numlist.append('zero')\n",
    "    if len(str(n)) == 2:\n",
    "        if str(n)[-2]=='1':\n",
    "            if str(n)[-1] == '1':\n",
    "                numlist.append('eleven')\n",
    "            elif str(n)[-1] == '2':                \n",
    "                numlist.append('twelve')\n",
    "            elif str(n)[-1] == '3':                \n",
    "                numlist.append('thirteen')\n",
    "            elif str(n)[-1] == '4':                \n",
    "                numlist.append('fourteen')\n",
    "            elif str(n)[-1] == '5':                \n",
    "                numlist.append('fifteen')\n",
    "            elif str(n)[-1] == '6':                \n",
    "                numlist.append('sixteen')\n",
    "            elif str(n)[-1] == '7':                \n",
    "                numlist.append('seventeen')\n",
    "            elif str(n)[-1] == '8':                \n",
    "                numlist.append('eighteen')\n",
    "            elif str(n)[-1] == '9':                \n",
    "                numlist.append('nineteen')\n",
    "            elif str(n)[-1] == '0':\n",
    "                numlist.append('ten')\n",
    "        elif str(n)[-2]=='2':\n",
    "            numlist.append('twenty')\n",
    "            if str(n)[-1] != '0':\n",
    "                number_to_words(str(n)[-1], numlist)\n",
    "        elif str(n)[-2]=='3':\n",
    "            numlist.append('thirty')\n",
    "            if str(n)[-1] != '0':\n",
    "                number_to_words(str(n)[-1], numlist)\n",
    "        elif str(n)[-2]=='4':\n",
    "            numlist.append('forty')\n",
    "            if str(n)[-1] != '0':\n",
    "                number_to_words(str(n)[-1], numlist)\n",
    "        elif str(n)[-2]=='5':\n",
    "            numlist.append('fifty')\n",
    "            if str(n)[-1] != '0':\n",
    "                number_to_words(str(n)[-1], numlist)\n",
    "        elif str(n)[-2]=='6':\n",
    "            numlist.append('sixty')\n",
    "            if str(n)[-1] != '0':\n",
    "                number_to_words(str(n)[-1], numlist)\n",
    "        elif str(n)[-2]=='7':\n",
    "            numlist.append('seventy')\n",
    "            if str(n)[-1] != '0':\n",
    "                number_to_words(str(n)[-1], numlist)\n",
    "        elif str(n)[-2]=='8':\n",
    "            numlist.append('eighty')\n",
    "            if str(n)[-1] != '0':\n",
    "                number_to_words(str(n)[-1], numlist)\n",
    "        elif str(n)[-2]=='9':\n",
    "            numlist.append('ninety')\n",
    "            if str(n)[-1] != '0':\n",
    "                number_to_words(str(n)[-1], numlist)\n",
    "        elif str(n)[-2]=='0':\n",
    "            if str(n)[-1] != '0':\n",
    "                number_to_words(str(n)[-1], numlist)\n",
    "    if len(str(n)) == 3:\n",
    "        if str(n)[-3] == '1':\n",
    "            if str(n)[-2:] != '00':\n",
    "                numlist.append('onehundredand')\n",
    "                number_to_words(str(n)[-2:], numlist)\n",
    "            else:\n",
    "                numlist.append('onehundred')\n",
    "        elif str(n)[-3]=='2':\n",
    "            if str(n)[-2:] != '00':\n",
    "                numlist.append('twohundredand')\n",
    "                number_to_words(str(n)[-2:], numlist)\n",
    "            else:\n",
    "                numlist.append('twohundred')\n",
    "        elif str(n)[-3]=='3':\n",
    "            if str(n)[-2:] != '00':\n",
    "                numlist.append('threehundredand')\n",
    "                number_to_words(str(n)[-2:], numlist)\n",
    "            else:\n",
    "                numlist.append('threehundred')\n",
    "        elif str(n)[-3]=='4':\n",
    "            if str(n)[-2:] != '00':\n",
    "                numlist.append('fourhundredand')\n",
    "                number_to_words(str(n)[-2:], numlist)\n",
    "            else:\n",
    "                numlist.append('fourhundred')\n",
    "        elif str(n)[-3]=='5':\n",
    "            if str(n)[-2:] != '00':\n",
    "                numlist.append('fivehundredand')\n",
    "                number_to_words(str(n)[-2:], numlist)\n",
    "            else:\n",
    "                numlist.append('fivehundred')\n",
    "        elif str(n)[-3]=='6':\n",
    "            if str(n)[-2:] != '00':\n",
    "                numlist.append('sixhundredand')\n",
    "                number_to_words(str(n)[-2:], numlist)\n",
    "            else:\n",
    "                numlist.append('sixhundred')\n",
    "        elif str(n)[-3]=='7':\n",
    "            if str(n)[-2:] != '00':\n",
    "                numlist.append('sevenhundredand')\n",
    "                number_to_words(str(n)[-2:], numlist)\n",
    "            else:\n",
    "                numlist.append('sevenhundred')\n",
    "        elif str(n)[-3]=='8':\n",
    "            if str(n)[-2:] != '00':\n",
    "                numlist.append('eighthundredand')\n",
    "                number_to_words(str(n)[-2:], numlist)\n",
    "            else:\n",
    "                numlist.append('eighthundred')\n",
    "        elif str(n)[-3]=='9':\n",
    "            if str(n)[-2:] != '00':\n",
    "                numlist.append('ninehundredand')\n",
    "                number_to_words(str(n)[-2:], numlist)\n",
    "            else:\n",
    "                numlist.append('ninehundred')\n",
    "    if str(n) == '1000':\n",
    "        numlist.append('onethousand')\n",
    "    return numlist"
   ]
  },
  {
   "cell_type": "markdown",
   "metadata": {
    "nbgrader": {}
   },
   "source": [
    "Now write a set of `assert` tests for your `number_to_words` function that verifies that it is working as expected."
   ]
  },
  {
   "cell_type": "code",
   "execution_count": 65,
   "metadata": {
    "collapsed": false,
    "deletable": false,
    "nbgrader": {
     "checksum": "6cff4e8e53b15273846c3aecaea84a3d",
     "solution": true
    }
   },
   "outputs": [],
   "source": [
    "numlist = []\n",
    "assert number_to_words(221, numlist)==['twohundredand', 'twenty', 'one']\n"
   ]
  },
  {
   "cell_type": "code",
   "execution_count": 66,
   "metadata": {
    "collapsed": true,
    "deletable": false,
    "nbgrader": {
     "checksum": "2c71c0f9dbe2a57b1ddc17bf544d86ed",
     "grade": true,
     "grade_id": "projecteuler17a",
     "points": 4
    }
   },
   "outputs": [],
   "source": [
    "assert True # use this for grading the number_to_words tests."
   ]
  },
  {
   "cell_type": "markdown",
   "metadata": {
    "nbgrader": {}
   },
   "source": [
    "Now define a `count_letters(n)` that returns the number of letters used to write out the words for all of the the numbers `1` to `n` inclusive."
   ]
  },
  {
   "cell_type": "code",
   "execution_count": 71,
   "metadata": {
    "collapsed": true,
    "nbgrader": {
     "checksum": "be228a805b41eda2b30887a53523f76b",
     "solution": true
    }
   },
   "outputs": [],
   "source": [
    "def count_letters(n):\n",
    "    \"\"\"Count the number of letters used to write out the words for 1-n inclusive.\"\"\"\n",
    "    numlist = []\n",
    "    for i in range(1,n+1):\n",
    "        numlist=number_to_words(i, numlist)\n",
    "    num=np.array(numlist)\n",
    "    np.ravel(num)\n",
    "    numsum = ''\n",
    "    for x in num:\n",
    "        numsum += x\n",
    "    return len(numsum)"
   ]
  },
  {
   "cell_type": "markdown",
   "metadata": {
    "nbgrader": {}
   },
   "source": [
    "Now write a set of `assert` tests for your `count_letters` function that verifies that it is working as expected."
   ]
  },
  {
   "cell_type": "code",
   "execution_count": 72,
   "metadata": {
    "collapsed": false,
    "deletable": false,
    "nbgrader": {
     "checksum": "6cff4e8e53b15273846c3aecaea84a3d",
     "solution": true
    }
   },
   "outputs": [],
   "source": [
    "assert count_letters(5)==19\n",
    "assert count_letters(10)==39"
   ]
  },
  {
   "cell_type": "code",
   "execution_count": 73,
   "metadata": {
    "collapsed": true,
    "deletable": false,
    "nbgrader": {
     "checksum": "3a06c9610681f0174008f2976e310e0a",
     "grade": true,
     "grade_id": "projecteuler17b",
     "points": 4
    }
   },
   "outputs": [],
   "source": [
    "assert True # use this for grading the count_letters tests."
   ]
  },
  {
   "cell_type": "markdown",
   "metadata": {
    "nbgrader": {}
   },
   "source": [
    "Finally used your `count_letters` function to solve the original question."
   ]
  },
  {
   "cell_type": "code",
   "execution_count": 74,
   "metadata": {
    "collapsed": false,
    "deletable": false,
    "nbgrader": {
     "checksum": "6cff4e8e53b15273846c3aecaea84a3d",
     "solution": true
    }
   },
   "outputs": [
    {
     "name": "stdout",
     "output_type": "stream",
     "text": [
      "21124\n"
     ]
    }
   ],
   "source": [
    "print(count_letters(1000))"
   ]
  },
  {
   "cell_type": "code",
   "execution_count": 59,
   "metadata": {
    "collapsed": true,
    "deletable": false,
    "nbgrader": {
     "checksum": "a136658e13c4f1154caf307a2e852f99",
     "grade": true,
     "grade_id": "projecteuler17c",
     "points": 2
    }
   },
   "outputs": [],
   "source": [
    "assert True # use this for gradig the answer to the original question."
   ]
  },
  {
   "cell_type": "code",
   "execution_count": null,
   "metadata": {
    "collapsed": true
   },
   "outputs": [],
   "source": []
  }
 ],
 "metadata": {
  "kernelspec": {
   "display_name": "Python 3",
   "language": "python",
   "name": "python3"
  },
  "language_info": {
   "codemirror_mode": {
    "name": "ipython",
    "version": 3
   },
   "file_extension": ".py",
   "mimetype": "text/x-python",
   "name": "python",
   "nbconvert_exporter": "python",
   "pygments_lexer": "ipython3",
   "version": "3.4.0"
  }
 },
 "nbformat": 4,
 "nbformat_minor": 0
}
