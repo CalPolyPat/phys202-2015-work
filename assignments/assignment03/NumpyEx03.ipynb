{
 "cells": [
  {
   "cell_type": "markdown",
   "metadata": {
    "nbgrader": {}
   },
   "source": [
    "# Numpy Exercise 3"
   ]
  },
  {
   "cell_type": "markdown",
   "metadata": {
    "nbgrader": {}
   },
   "source": [
    "## Imports"
   ]
  },
  {
   "cell_type": "code",
   "execution_count": 1,
   "metadata": {
    "collapsed": true,
    "nbgrader": {}
   },
   "outputs": [],
   "source": [
    "import numpy as np\n",
    "%matplotlib inline\n",
    "import matplotlib.pyplot as plt\n",
    "import seaborn as sns"
   ]
  },
  {
   "cell_type": "code",
   "execution_count": 2,
   "metadata": {
    "collapsed": false,
    "nbgrader": {}
   },
   "outputs": [
    {
     "name": "stdout",
     "output_type": "stream",
     "text": [
      "Downloading:  https://raw.githubusercontent.com/ellisonbg/misc/master/vizarray.py\n",
      "Using existing version:  github.ellisonbg.misc.vizarray\n"
     ]
    }
   ],
   "source": [
    "import antipackage\n",
    "import github.ellisonbg.misc.vizarray as va"
   ]
  },
  {
   "cell_type": "markdown",
   "metadata": {
    "nbgrader": {}
   },
   "source": [
    "## Geometric Brownian motion"
   ]
  },
  {
   "cell_type": "markdown",
   "metadata": {
    "nbgrader": {}
   },
   "source": [
    "Here is a function that produces standard Brownian motion using NumPy. This is also known as a [Wiener Process](http://en.wikipedia.org/wiki/Wiener_process)."
   ]
  },
  {
   "cell_type": "code",
   "execution_count": 3,
   "metadata": {
    "collapsed": false,
    "nbgrader": {}
   },
   "outputs": [],
   "source": [
    "def brownian(maxt, n):\n",
    "    \"\"\"Return one realization of a Brownian (Wiener) process with n steps and a max time of t.\"\"\"\n",
    "    t = np.linspace(0.0,maxt,n)\n",
    "    h = t[1]-t[0]\n",
    "    Z = np.random.normal(0.0,1.0,n-1)\n",
    "    dW = np.sqrt(h)*Z\n",
    "    W = np.zeros(n)\n",
    "    W[1:] = dW.cumsum()\n",
    "    return t, W"
   ]
  },
  {
   "cell_type": "markdown",
   "metadata": {
    "nbgrader": {}
   },
   "source": [
    "Call the `brownian` function to simulate a Wiener process with `1000` steps and max time of `1.0`. Save the results as two arrays `t` and `W`."
   ]
  },
  {
   "cell_type": "code",
   "execution_count": 10,
   "metadata": {
    "collapsed": true,
    "deletable": false,
    "nbgrader": {
     "checksum": "6cff4e8e53b15273846c3aecaea84a3d",
     "grade": false,
     "grade_id": "numpyex03a",
     "points": 2,
     "solution": true
    }
   },
   "outputs": [],
   "source": [
    "#t, w = numpy.empty(1000)\n",
    "t, W = brownian(1.0, 1000)"
   ]
  },
  {
   "cell_type": "code",
   "execution_count": 11,
   "metadata": {
    "collapsed": false,
    "deletable": false,
    "nbgrader": {
     "checksum": "b671a523fd8cb7621c2445244189d5a4",
     "grade": true,
     "grade_id": "numpyex03a",
     "points": 2
    }
   },
   "outputs": [],
   "source": [
    "assert isinstance(t, np.ndarray)\n",
    "assert isinstance(W, np.ndarray)\n",
    "assert t.dtype==np.dtype(float)\n",
    "assert W.dtype==np.dtype(float)\n",
    "assert len(t)==len(W)==1000"
   ]
  },
  {
   "cell_type": "markdown",
   "metadata": {
    "nbgrader": {}
   },
   "source": [
    "Visualize the process using `plt.plot` with `t` on the x-axis and `W(t)` on the y-axis. Label your x and y axes."
   ]
  },
  {
   "cell_type": "code",
   "execution_count": 12,
   "metadata": {
    "collapsed": false,
    "deletable": false,
    "nbgrader": {
     "checksum": "6cff4e8e53b15273846c3aecaea84a3d",
     "grade": false,
     "grade_id": "numpyex03b",
     "points": 2,
     "solution": true
    }
   },
   "outputs": [
    {
     "data": {
      "text/plain": [
       "<matplotlib.text.Text at 0x7f600c2e9050>"
      ]
     },
     "execution_count": 12,
     "metadata": {},
     "output_type": "execute_result"
    },
    {
     "data": {
      "image/png": "[encoded data removed]",
      "text/plain": [
       "<matplotlib.figure.Figure at 0x7f600c41cc90>"
      ]
     },
     "metadata": {},
     "output_type": "display_data"
    }
   ],
   "source": [
    "plt.plot(t, W, \"bo\")\n",
    "plt.ylabel('Position')\n",
    "plt.xlabel('Time')"
   ]
  },
  {
   "cell_type": "code",
   "execution_count": 13,
   "metadata": {
    "collapsed": true,
    "deletable": false,
    "nbgrader": {
     "checksum": "1a35840ca7eaf864f9201ee4e0d947e0",
     "grade": true,
     "grade_id": "numpyex03b",
     "points": 2
    }
   },
   "outputs": [],
   "source": [
    "assert True # this is for grading"
   ]
  },
  {
   "cell_type": "markdown",
   "metadata": {
    "nbgrader": {}
   },
   "source": [
    "Use `np.diff` to compute the changes at each step of the motion, `dW`, and then compute the mean and standard deviation of those differences."
   ]
  },
  {
   "cell_type": "code",
   "execution_count": 20,
   "metadata": {
    "collapsed": false,
    "deletable": false,
    "nbgrader": {
     "checksum": "6cff4e8e53b15273846c3aecaea84a3d",
     "grade": false,
     "grade_id": "numpyex03c",
     "points": 2,
     "solution": true
    }
   },
   "outputs": [
    {
     "name": "stdout",
     "output_type": "stream",
     "text": [
      "-0.000969586257854\n",
      "0.0314483080626\n"
     ]
    }
   ],
   "source": [
    "dW = np.diff(W)\n",
    "mean = np.mean(dW)\n",
    "stdev = np.std(dW)\n",
    "print mean\n",
    "print stdev\n"
   ]
  },
  {
   "cell_type": "code",
   "execution_count": null,
   "metadata": {
    "collapsed": true
   },
   "outputs": [],
   "source": []
  },
  {
   "cell_type": "code",
   "execution_count": null,
   "metadata": {
    "collapsed": true
   },
   "outputs": [],
   "source": []
  },
  {
   "cell_type": "code",
   "execution_count": 19,
   "metadata": {
    "collapsed": false,
    "deletable": false,
    "nbgrader": {
     "checksum": "b2236af662ecc138c4b78af673b476c1",
     "grade": true,
     "grade_id": "numpyex03c",
     "points": 2
    }
   },
   "outputs": [],
   "source": [
    "assert len(dW)==len(W)-1\n",
    "assert dW.dtype==np.dtype(float)"
   ]
  },
  {
   "cell_type": "markdown",
   "metadata": {
    "nbgrader": {}
   },
   "source": [
    "Write a function that takes $W(t)$ and converts it to geometric Brownian motion using the equation:\n",
    "\n",
    "$$\n",
    "X(t) = X_0 e^{((\\mu - \\sigma^2/2)t + \\sigma W(t))}\n",
    "$$\n",
    "\n",
    "Use Numpy ufuncs and no loops in your function."
   ]
  },
  {
   "cell_type": "code",
   "execution_count": 22,
   "metadata": {
    "collapsed": false,
    "nbgrader": {
     "checksum": "2b05883af2c87bc938fc4f7fe7e35f66",
     "grade": false,
     "grade_id": "numpyex03d",
     "points": 2,
     "solution": true
    }
   },
   "outputs": [
    {
     "name": "stdout",
     "output_type": "stream",
     "text": [
      "[ 2.          1.99583126  1.99530148  1.9957661   1.99294395  1.99301525\n",
      "  1.99125179  1.9902822   1.987979    1.98354138  1.98156103  1.98096024\n",
      "  1.98192387  1.983033    1.98270473  1.98687014  1.98429612  1.98332996\n",
      "  1.9827314   1.98094609  1.97938389  1.9794817   1.97834943  1.97624023\n",
      "  1.97392278  1.97499143  1.97559412  1.97639307  1.97609528  1.97599418\n",
      "  1.97595345  1.97549896  1.97502407  1.97693674  1.97697595  1.97567723\n",
      "  1.97825756  1.98075431  1.98206301  1.97979219  1.98029546  1.97974479\n",
      "  1.97940534  1.98019303  1.98127238  1.98063288  1.98151679  1.98149718\n",
      "  1.98165403  1.98548401  1.98322106  1.98324128  1.98356115  1.98261012\n",
      "  1.97834485  1.97626898  1.97678503  1.97684653  1.9780765   1.98008668\n",
      "  1.98085632  1.98178396  1.9826968   1.97943855  1.97942079  1.97886119\n",
      "  1.98235669  1.98225334  1.98171895  1.98144855  1.97908475  1.97819265\n",
      "  1.97908701  1.98333056  1.98266047  1.98658401  1.9834587   1.98276608\n",
      "  1.98208517  1.98523143  1.98445792  1.98625527  1.98487394  1.98546309\n",
      "  1.98589696  1.98723111  1.98683235  1.98856869  1.98774163  1.98659808\n",
      "  1.98669544  1.98496055  1.98716095  1.98814764  1.98996856  1.99051908\n",
      "  1.99287038  1.99638942  1.99691318  1.99550753  1.99585882  1.99590301\n",
      "  1.99636369  1.99692853  1.99634502  1.99334925  1.99389656  1.99402881\n",
      "  1.99456835  1.99570608  1.99931987  1.99989867  1.99668033  1.99931102\n",
      "  1.9997662   1.99815012  1.99846801  1.99893253  1.99987776  2.00088757\n",
      "  2.00170645  2.00416433  2.00213042  1.99998921  2.00032912  2.00020466\n",
      "  2.00314409  2.00444611  2.0062879   2.00530678  2.00512561  2.00634897\n",
      "  2.00598655  2.00826528  2.00695958  2.00557751  2.005345    2.00287799\n",
      "  2.00089458  2.00101899  2.00104858  2.0004122   1.9960762   1.99561892\n",
      "  1.994769    1.99674808  1.99795484  1.99770253  1.99648148  1.9970722\n",
      "  1.99780277  1.99709121  1.99973388  1.99906197  1.99683639  1.999465\n",
      "  2.00255981  2.00728199  2.00470101  2.00604887  2.00420561  2.00376385\n",
      "  2.00568991  2.00649866  2.00800975  2.01130543  2.01552731  2.01740002\n",
      "  2.01764907  2.01724897  2.02173692  2.02255186  2.02488979  2.025102\n",
      "  2.02696774  2.02488359  2.02613744  2.02690431  2.02506478  2.02455138\n",
      "  2.02635893  2.02674209  2.02688059  2.02666358  2.02774891  2.0306794\n",
      "  2.03154845  2.03030635  2.02808806  2.02129402  2.02078576  2.02175014\n",
      "  2.02107979  2.02084133  2.01850861  2.02180531  2.02390669  2.0201543\n",
      "  2.02133602  2.01922584  2.02012474  2.01960154  2.01906021  2.02053629\n",
      "  2.01888029  2.01700274  2.01344766  2.014174    2.01594573  2.01535083\n",
      "  2.0170259   2.01638908  2.01841177  2.01735571  2.01652963  2.0147806\n",
      "  2.01565298  2.01415495  2.01510696  2.01836531  2.01858039  2.02123151\n",
      "  2.02001178  2.02032042  2.02495905  2.02617779  2.02912383  2.02872749\n",
      "  2.02573457  2.02537008  2.02474691  2.0249137   2.02534305  2.0260842\n",
      "  2.02366054  2.02636558  2.02655785  2.02682913  2.02810543  2.03029921\n",
      "  2.03168587  2.03598634  2.03671777  2.03859746  2.04087369  2.03868594\n",
      "  2.03765253  2.03717471  2.03793278  2.036685    2.03899814  2.0395502\n",
      "  2.0414206   2.04101765  2.04207213  2.04555209  2.04777022  2.04613601\n",
      "  2.04272177  2.04807841  2.04951576  2.04675771  2.04833901  2.04524552\n",
      "  2.04553612  2.04208595  2.04314535  2.04285635  2.04070123  2.03977257\n",
      "  2.04186404  2.04348846  2.04114677  2.03990964  2.04291609  2.04248377\n",
      "  2.04487545  2.04263255  2.03816059  2.0372056   2.0352188   2.03373215\n",
      "  2.03638148  2.03502727  2.03454758  2.03189282  2.03514144  2.03264992\n",
      "  2.03484827  2.03290034  2.03380474  2.03346613  2.03250374  2.03252569\n",
      "  2.03287006  2.03156418  2.03075628  2.03081793  2.02971717  2.02898551\n",
      "  2.0295555   2.02821087  2.0254149   2.02711754  2.02474763  2.02477667\n",
      "  2.02282915  2.02108191  2.02148941  2.01747589  2.0156246   2.01960512\n",
      "  2.0200812   2.01932825  2.01823462  2.0155857   2.01920359  2.02044136\n",
      "  2.01965123  2.01834425  2.0167073   2.01493651  2.01762689  2.01363554\n",
      "  2.01462426  2.01413082  2.01279711  2.0112889   2.01277824  2.01356676\n",
      "  2.01327189  2.01216644  2.01101971  2.0114059   2.01123842  2.01186487\n",
      "  2.01031103  2.00840214  2.00680478  2.0078829   2.00847501  2.00939841\n",
      "  2.01171131  2.01552494  2.01444348  2.0140089   2.01675638  2.01532671\n",
      "  2.01305578  2.01452509  2.00913229  2.01230747  2.01199658  2.0078893\n",
      "  2.00446862  2.00531382  2.00434479  2.00304141  2.0019273   1.99896105\n",
      "  1.99946149  1.99845026  1.99941986  1.99825451  1.99781895  1.9991749\n",
      "  1.99997521  1.99784992  1.99455843  1.99645743  1.99909329  1.99718694\n",
      "  1.99714646  1.99760145  1.99550036  1.99626017  1.99704967  1.99439322\n",
      "  1.99465389  1.99675282  1.99391404  1.99309016  1.99651534  1.9945261\n",
      "  1.99302822  1.98812226  1.98544411  1.9859503   1.98660376  1.98258377\n",
      "  1.98076032  1.98196112  1.98033449  1.97587536  1.97492184  1.9738581\n",
      "  1.97590302  1.97273504  1.97515189  1.97535665  1.97603046  1.97792406\n",
      "  1.97774043  1.97720094  1.97803956  1.97970868  1.97965953  1.98034911\n",
      "  1.97941336  1.97692328  1.97391141  1.97119349  1.96768254  1.96533935\n",
      "  1.96606127  1.96542846  1.96762183  1.96660428  1.96793522  1.96832681\n",
      "  1.96785393  1.96776098  1.96464971  1.9643093   1.95932587  1.95743231\n",
      "  1.95892376  1.95527977  1.95628295  1.95484571  1.95336438  1.95341272\n",
      "  1.95162738  1.9524916   1.95191217  1.95263109  1.95171883  1.95257435\n",
      "  1.95095566  1.95212811  1.95036111  1.95005668  1.95026255  1.94929145\n",
      "  1.94911925  1.95079363  1.9511969   1.9505416   1.94770468  1.94582202\n",
      "  1.94684395  1.94619063  1.94742841  1.94589061  1.94679335  1.94698764\n",
      "  1.94732931  1.94757984  1.94476628  1.94199914  1.94257206  1.94244864\n",
      "  1.94332043  1.94187253  1.94089839  1.93862283  1.93805157  1.93511172\n",
      "  1.93610671  1.93612051  1.93540343  1.93446567  1.93217448  1.93533369\n",
      "  1.94011914  1.93982415  1.93913948  1.93786263  1.9395249   1.94322915\n",
      "  1.94247278  1.94414372  1.94412983  1.94350788  1.9433453   1.94510396\n",
      "  1.94386349  1.94500953  1.94418855  1.94665176  1.94657191  1.94430111\n",
      "  1.9452775   1.94651007  1.94704317  1.94561363  1.94734438  1.95351073\n",
      "  1.95537571  1.95221475  1.95539094  1.95709023  1.9580985   1.95779999\n",
      "  1.9592837   1.95848852  1.95607069  1.95340146  1.95426472  1.95399526\n",
      "  1.95154962  1.95179742  1.95121771  1.95170495  1.95501352  1.95279702\n",
      "  1.95453792  1.95548996  1.95731891  1.95986389  1.96213939  1.95838039\n",
      "  1.95894704  1.95509791  1.9547646   1.95626806  1.95662397  1.95423782\n",
      "  1.95769384  1.95698322  1.95390621  1.95215498  1.95181294  1.95317606\n",
      "  1.95171681  1.94789383  1.94759774  1.94692709  1.94653334  1.94758755\n",
      "  1.94990142  1.94909406  1.94744661  1.94645366  1.94888679  1.95147997\n",
      "  1.95335367  1.95412101  1.95647004  1.95556741  1.95618837  1.95555438\n",
      "  1.95581989  1.9543276   1.95435057  1.95024198  1.9494962   1.95109547\n",
      "  1.95099764  1.95305543  1.95287736  1.95464625  1.9544207   1.95251975\n",
      "  1.95579276  1.95390438  1.95471432  1.95575792  1.95586612  1.95881716\n",
      "  1.9638589   1.96487831  1.96609871  1.96449562  1.96288489  1.96642532\n",
      "  1.96823726  1.96800227  1.96613526  1.96580627  1.96466453  1.96412935\n",
      "  1.96389099  1.96274178  1.96397497  1.96425277  1.96467805  1.96291812\n",
      "  1.96136424  1.96047104  1.9629264   1.9625948   1.96254548  1.96442429\n",
      "  1.96744076  1.96890495  1.97098316  1.97429706  1.97358823  1.96871734\n",
      "  1.9685745   1.96344255  1.96116215  1.95864938  1.9583603   1.95658754\n",
      "  1.955303    1.95495472  1.95211084  1.95018917  1.94802533  1.95181907\n",
      "  1.9515259   1.95285736  1.95264732  1.95470871  1.95495652  1.95348631\n",
      "  1.95418165  1.95698752  1.95153317  1.95109043  1.9512162   1.95241724\n",
      "  1.95279469  1.9524462   1.95311423  1.95163208  1.94679024  1.94600459\n",
      "  1.94490295  1.94511635  1.95188431  1.95437234  1.95526526  1.95012081\n",
      "  1.95011717  1.95282281  1.95256179  1.95240383  1.95201439  1.9520775\n",
      "  1.95463995  1.95503796  1.95595141  1.9565264   1.95952063  1.95629043\n",
      "  1.95605857  1.95555041  1.95233919  1.94984077  1.94724335  1.94679824\n",
      "  1.94647859  1.94366223  1.94234481  1.94346038  1.94247098  1.94345301\n",
      "  1.94657191  1.94924725  1.95119707  1.94959162  1.95197081  1.95070381\n",
      "  1.95053268  1.95295885  1.95306727  1.95325215  1.95354442  1.95325561\n",
      "  1.95414216  1.9524717   1.95464995  1.94915573  1.95207724  1.95170415\n",
      "  1.95231905  1.95514265  1.95726721  1.95857995  1.95682797  1.95953194\n",
      "  1.95702716  1.95678689  1.95442429  1.95406706  1.95335357  1.95027069\n",
      "  1.94954355  1.94427732  1.94311785  1.94343135  1.94450986  1.94574556\n",
      "  1.94768539  1.94459207  1.94283207  1.93996933  1.94185939  1.94303596\n",
      "  1.94256025  1.94572609  1.9448956   1.94221876  1.94486392  1.94652264\n",
      "  1.94819597  1.94571813  1.94629517  1.94486781  1.94685791  1.94680865\n",
      "  1.94422366  1.94744748  1.94733001  1.94724779  1.94786839  1.94469939\n",
      "  1.94684406  1.94904552  1.94609047  1.94692462  1.94951913  1.94839257\n",
      "  1.94719441  1.94466553  1.94478719  1.94835145  1.94763894  1.94674801\n",
      "  1.94832163  1.95111568  1.95484841  1.95490781  1.95490597  1.9541413\n",
      "  1.95284686  1.95312731  1.9546733   1.95499876  1.95160545  1.9499457\n",
      "  1.95060575  1.94800219  1.94865021  1.94621596  1.94622548  1.94395924\n",
      "  1.94272636  1.94221612  1.94023995  1.93958937  1.93969215  1.93513483\n",
      "  1.93274575  1.93493873  1.93494396  1.93257875  1.92961115  1.92979759\n",
      "  1.93326278  1.93422556  1.93732036  1.93704331  1.93757658  1.93897331\n",
      "  1.94203363  1.94173232  1.94030934  1.94034638  1.93963367  1.93650972\n",
      "  1.9356998   1.93350382  1.93489714  1.93343846  1.93646973  1.93698298\n",
      "  1.93758639  1.93693726  1.9359032   1.93666856  1.93561155  1.93731799\n",
      "  1.93690568  1.93756942  1.93581199  1.93557661  1.93754204  1.93787168\n",
      "  1.93705545  1.93815078  1.9397163   1.94281376  1.94473852  1.94302257\n",
      "  1.94233723  1.94219559  1.94373134  1.94145874  1.94280472  1.94188493\n",
      "  1.94254434  1.94142265  1.94024429  1.93954064  1.93506202  1.93311392\n",
      "  1.93296231  1.93607334  1.93745491  1.93739365  1.93805293  1.93792423\n",
      "  1.93841092  1.93829365  1.93743475  1.93659933  1.93623414  1.93834234\n",
      "  1.93826376  1.93624272  1.93753846  1.93708404  1.9356926   1.93842074\n",
      "  1.93783165  1.9408936   1.93703652  1.93881261  1.93741478  1.93417715\n",
      "  1.93826495  1.93876334  1.94198755  1.9439862   1.94310785  1.94252613\n",
      "  1.94285247  1.94240737  1.94343078  1.94504575  1.94022749  1.94082107\n",
      "  1.94007141  1.93800529  1.93963952  1.93801493  1.93922672  1.93733128\n",
      "  1.93509339  1.93251789  1.93026277  1.93313723  1.92991198  1.92787578\n",
      "  1.92579985  1.92616767  1.92634954  1.92746762  1.92704179  1.92856061\n",
      "  1.92611841  1.92397773  1.92428511  1.92767706  1.92918478  1.93276933\n",
      "  1.93197994  1.93418023  1.93619748  1.93177041  1.92916539  1.92877587\n",
      "  1.92571483  1.92633649  1.92933603  1.93108445  1.92864874  1.92704319\n",
      "  1.92520043  1.92373239  1.92584486  1.92439369  1.92583434  1.92345982\n",
      "  1.92178765  1.92132563  1.92345002  1.92349436  1.92297347  1.92079148\n",
      "  1.92227419  1.92271473  1.92530555  1.92491399  1.92727098  1.92615078\n",
      "  1.92561258  1.92755267  1.92662559  1.92330505  1.92294743  1.92430446\n",
      "  1.92303503  1.92516312  1.9265546   1.92557706  1.92337905  1.92466904\n",
      "  1.92088962  1.92299482  1.92639477  1.92970758  1.92724415  1.92689394\n",
      "  1.9257747   1.92878756  1.93032873  1.92883351  1.9257237   1.92519448\n",
      "  1.93109223  1.92886252  1.93132729  1.93428002  1.92972693  1.92922473\n",
      "  1.93017652  1.93100996  1.93034049  1.928964    1.92971856  1.92839337\n",
      "  1.9281661   1.9309037   1.93053891  1.93105402  1.93425554  1.93372179\n",
      "  1.93209396  1.93427449  1.93570103  1.93419714  1.93390783  1.93442828\n",
      "  1.9334186   1.93411259  1.9335946   1.93587845  1.93585985  1.93284474\n",
      "  1.9345398   1.93632188  1.93570011  1.93426372  1.93772922  1.93770586\n",
      "  1.93544855  1.9345523   1.9342261   1.93413982  1.93227793  1.93140909\n",
      "  1.92873021  1.92735246  1.92915083  1.93028512  1.93109938  1.9298919\n",
      "  1.92935623  1.92902267  1.92794677  1.9245945   1.92350385  1.92704674\n",
      "  1.92872529  1.92751258  1.92942246  1.9293152   1.92875837  1.92649243\n",
      "  1.92652521  1.93038722  1.92850147  1.93089179  1.93028953  1.93062272\n",
      "  1.93143132  1.92940908  1.93166466  1.93354893  1.93515676  1.93533749\n",
      "  1.93363801  1.93422821  1.93477297  1.93715759]\n"
     ]
    }
   ],
   "source": [
    "def geo_brownian(t, W, X0, mu, sigma):\n",
    "    return X0*np.exp((mu-(sigma**2)/2)*t+sigma*W)\n",
    "print geo_brownian(t,W,2,mean,stdev)"
   ]
  },
  {
   "cell_type": "code",
   "execution_count": 23,
   "metadata": {
    "collapsed": true,
    "deletable": false,
    "nbgrader": {
     "checksum": "401ffd490410ab0a18612d641e24c02f",
     "grade": true,
     "grade_id": "numpyex03d",
     "points": 2
    }
   },
   "outputs": [],
   "source": [
    "assert True # leave this for grading"
   ]
  },
  {
   "cell_type": "markdown",
   "metadata": {
    "nbgrader": {}
   },
   "source": [
    "Use your function to simulate geometric brownian motion, $X(t)$ for $X_0=1.0$, $\\mu=0.5$ and $\\sigma=0.3$ with the Wiener process you computed above.\n",
    "\n",
    "Visualize the process using `plt.plot` with `t` on the x-axis and `X(t)` on the y-axis. Label your x and y axes."
   ]
  },
  {
   "cell_type": "code",
   "execution_count": 24,
   "metadata": {
    "collapsed": false,
    "deletable": false,
    "nbgrader": {
     "checksum": "6cff4e8e53b15273846c3aecaea84a3d",
     "grade": false,
     "grade_id": "numpyex03f",
     "points": 2,
     "solution": true
    }
   },
   "outputs": [
    {
     "data": {
      "text/plain": [
       "<matplotlib.text.Text at 0x7f600c25e890>"
      ]
     },
     "execution_count": 24,
     "metadata": {},
     "output_type": "execute_result"
    },
    {
     "data": {
      "image/png": "[encoded data removed]",
      "text/plain": [
       "<matplotlib.figure.Figure at 0x7f600c3cdf10>"
      ]
     },
     "metadata": {},
     "output_type": "display_data"
    }
   ],
   "source": [
    "X = geo_brownian(t,W,1.0,0.5,0.3)\n",
    "plt.plot(t,X, 'ro')\n",
    "plt.ylabel('X(t)')\n",
    "plt.xlabel('time')"
   ]
  },
  {
   "cell_type": "code",
   "execution_count": 25,
   "metadata": {
    "collapsed": true,
    "deletable": false,
    "nbgrader": {
     "checksum": "00e3fda54f3eba73d67842cf7f02777a",
     "grade": true,
     "grade_id": "numpyex03e",
     "points": 2
    }
   },
   "outputs": [],
   "source": [
    "assert True # leave this for grading"
   ]
  },
  {
   "cell_type": "code",
   "execution_count": null,
   "metadata": {
    "collapsed": true
   },
   "outputs": [],
   "source": []
  }
 ],
 "metadata": {
  "kernelspec": {
   "display_name": "Python 2",
   "language": "python",
   "name": "python2"
  },
  "language_info": {
   "codemirror_mode": {
    "name": "ipython",
    "version": 2
   },
   "file_extension": ".py",
   "mimetype": "text/x-python",
   "name": "python",
   "nbconvert_exporter": "python",
   "pygments_lexer": "ipython2",
   "version": "2.7.6"
  }
 },
 "nbformat": 4,
 "nbformat_minor": 0
}
