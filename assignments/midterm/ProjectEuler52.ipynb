{
 "cells": [
  {
   "cell_type": "markdown",
   "metadata": {
    "nbgrader": {}
   },
   "source": [
    "# Project Euler: Problem 52"
   ]
  },
  {
   "cell_type": "markdown",
   "metadata": {
    "nbgrader": {}
   },
   "source": [
    "https://projecteuler.net/problem=52\n",
    "\n",
    "It can be seen that the number, $125874$, and its double, $251748$, contain exactly the same digits, but in a different order.\n",
    "\n",
    "Find the smallest positive integer, $x$, such that $2x$, $3x$, $4x$, $5x$, and $6x$, contain the same digits."
   ]
  },
  {
   "cell_type": "markdown",
   "metadata": {
    "nbgrader": {}
   },
   "source": [
    "First, write a function `same_digits(x,y)` that returns `True` if two integers `x` and `y` have the exact same set of digits and multiplicities and `False` if they have different digits."
   ]
  },
  {
   "cell_type": "code",
   "execution_count": 2,
   "metadata": {
    "collapsed": false
   },
   "outputs": [],
   "source": [
    "import numpy as np\n"
   ]
  },
  {
   "cell_type": "code",
   "execution_count": 6,
   "metadata": {
    "collapsed": false,
    "nbgrader": {
     "checksum": "aad5ed41801af39fc06f00c8d275a010",
     "solution": true
    }
   },
   "outputs": [],
   "source": [
    "def same_digits(x, y):\n",
    "    \"\"\"Do the integers x and y have the same digits, regardless of order.\"\"\"\n",
    "    xlist = np.array(list(str(x)))\n",
    "    ylist = np.array(list(str(y)))\n",
    "    for ch in xlist:\n",
    "        if ch not in ylist:\n",
    "            return False\n",
    "    for ch in ylist:\n",
    "        if ch not in xlist:\n",
    "            return False\n",
    "    return True"
   ]
  },
  {
   "cell_type": "code",
   "execution_count": null,
   "metadata": {
    "collapsed": false
   },
   "outputs": [],
   "source": []
  },
  {
   "cell_type": "code",
   "execution_count": 7,
   "metadata": {
    "collapsed": false,
    "deletable": false,
    "nbgrader": {
     "checksum": "dd0aff5d565bc794cee175aaa6c0cb3d",
     "grade": true,
     "grade_id": "projecteuler52a",
     "points": 4
    }
   },
   "outputs": [],
   "source": [
    "assert same_digits('132', '321')\n",
    "assert not same_digits('123', '3')\n",
    "assert not same_digits('456', '0987654321')"
   ]
  },
  {
   "cell_type": "markdown",
   "metadata": {
    "nbgrader": {}
   },
   "source": [
    "Now use the `same_digits` function to solve this Euler problem. As you work on this problem, be careful to debug and test your code on small integers before trying it on the full search."
   ]
  },
  {
   "cell_type": "code",
   "execution_count": null,
   "metadata": {
    "collapsed": false,
    "deletable": false,
    "nbgrader": {
     "checksum": "6cff4e8e53b15273846c3aecaea84a3d",
     "solution": true
    }
   },
   "outputs": [
    {
     "name": "stdout",
     "output_type": "stream",
     "text": [
      "142857\n",
      "try a bigger number lvl 3"
     ]
    }
   ],
   "source": [
    "for x in range(1,10000000):\n",
    "    if same_digits(x, 2*x):\n",
    "        if same_digits(2*x, 3*x):\n",
    "            if same_digits(3*x, 4*x):\n",
    "                if same_digits(4*x, 5*x):\n",
    "                    if same_digits(5*x, 6*x):\n",
    "                        print(x)\n",
    "                    else:\n",
    "                        print(\"DUUUUUUDE! So close, but no cigar. Try a bigger number\")\n",
    "                else:\n",
    "                    print(\"try a bigger number lvl 4\")\n",
    "            else:\n",
    "                print(\"try a bigger number lvl 3\")\n",
    "        #else:\n",
    "            #print(\"try a bigger number lvl 2\")\n",
    "    #else:\n",
    "        #print(\"try a bigger number lvl 1\")"
   ]
  },
  {
   "cell_type": "code",
   "execution_count": 24,
   "metadata": {
    "collapsed": false
   },
   "outputs": [
    {
     "name": "stdout",
     "output_type": "stream",
     "text": [
      "142857\n",
      "285714\n",
      "428571\n",
      "571428\n",
      "714285\n",
      "857142\n"
     ]
    }
   ],
   "source": []
  },
  {
   "cell_type": "code",
   "execution_count": null,
   "metadata": {
    "collapsed": true,
    "deletable": false,
    "nbgrader": {
     "checksum": "dafbda681e8fb50925790dc1d0600750",
     "grade": true,
     "grade_id": "projecteuler52b",
     "points": 6
    }
   },
   "outputs": [],
   "source": [
    "assert True # leave this cell to grade the solution"
   ]
  }
 ],
 "metadata": {
  "kernelspec": {
   "display_name": "Python 3",
   "language": "python",
   "name": "python3"
  },
  "language_info": {
   "codemirror_mode": {
    "name": "ipython",
    "version": 3
   },
   "file_extension": ".py",
   "mimetype": "text/x-python",
   "name": "python",
   "nbconvert_exporter": "python",
   "pygments_lexer": "ipython3",
   "version": "3.4.0"
  }
 },
 "nbformat": 4,
 "nbformat_minor": 0
}
